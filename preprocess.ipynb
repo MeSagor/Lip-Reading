{
 "cells": [
  {
   "cell_type": "code",
   "execution_count": null,
   "metadata": {},
   "outputs": [],
   "source": [
    "import os\n",
    "import cv2\n",
    "import tensorflow as tf\n",
    "import numpy as np\n",
    "from typing import List\n",
    "from matplotlib import pyplot as plt"
   ]
  },
  {
   "cell_type": "code",
   "execution_count": null,
   "metadata": {},
   "outputs": [],
   "source": [
    "tf.config.list_physical_devices('GPU')"
   ]
  },
  {
   "cell_type": "code",
   "execution_count": null,
   "metadata": {},
   "outputs": [],
   "source": [
    "physical_devices = tf.config.list_physical_devices('GPU')\n",
    "try:\n",
    "    tf.config.experimental.set_memory_growth(physical_devices[0], True)\n",
    "except:\n",
    "    pass"
   ]
  },
  {
   "cell_type": "code",
   "execution_count": null,
   "metadata": {},
   "outputs": [],
   "source": [
    "# https://github.com/skaws2003/Dlib-lip-detection/tree/master\n",
    "\n",
    "import dlib\n",
    "\n",
    "# Initialize the face detector and shape predictor\n",
    "hog_face_detector = dlib.get_frontal_face_detector()\n",
    "dlib_facelandmark = dlib.shape_predictor(\"./detector/shape_predictor_68_face_landmarks.dat\")\n",
    "\n",
    "def load_video(path: str) -> List[np.ndarray]:\n",
    "    cap = cv2.VideoCapture(path)\n",
    "    frames = []\n",
    "    target_height, target_width = 54, 90  # Target dimensions\n",
    "\n",
    "    for _ in range(int(cap.get(cv2.CAP_PROP_FRAME_COUNT))):\n",
    "        ret, frame = cap.read()\n",
    "        if not ret:\n",
    "            continue\n",
    "\n",
    "        frame = cv2.cvtColor(frame, cv2.COLOR_BGR2GRAY)\n",
    "        faces = hog_face_detector(frame)\n",
    "        if len(faces) == 0:\n",
    "            # If no faces are detected, append an empty frame\n",
    "            empty_frame = np.zeros((target_height, target_width, 1), dtype=np.uint8)\n",
    "            frames.append(empty_frame)\n",
    "            continue\n",
    "\n",
    "        x67, y67 = 100, 100\n",
    "        horizontal_padding, vertical_padding = 45, 27\n",
    "\n",
    "        for face in faces:\n",
    "            face_landmarks = dlib_facelandmark(frame, face)\n",
    "            x67 = face_landmarks.part(67).x\n",
    "            y67 = face_landmarks.part(67).y\n",
    "\n",
    "        # Define lip window with padding\n",
    "        y_start = max(y67 - vertical_padding, 0)\n",
    "        y_end = min(y67 + vertical_padding, frame.shape[0])\n",
    "        x_start = max(x67 - horizontal_padding, 0)\n",
    "        x_end = min(x67 + horizontal_padding, frame.shape[1])\n",
    "\n",
    "        lip_window = frame[y_start:y_end, x_start:x_end]\n",
    "\n",
    "        # Pad the lip window if it's smaller than the target size\n",
    "        if lip_window.shape[0] != target_height or lip_window.shape[1] != target_width:\n",
    "            padded_lip_window = np.zeros((target_height, target_width), dtype=np.uint8)\n",
    "            padded_lip_window[:lip_window.shape[0], :lip_window.shape[1]] = lip_window\n",
    "            lip_window = padded_lip_window\n",
    "\n",
    "        # Resize to the required dimensions (54x90) and add channel dimension\n",
    "        lip_window = cv2.resize(lip_window, (target_width, target_height))\n",
    "        lip_window = np.expand_dims(lip_window, axis=-1)\n",
    "\n",
    "        frames.append(lip_window)\n",
    "\n",
    "    cap.release()\n",
    "\n",
    "    frames = np.array(frames)\n",
    "    mean = np.mean(frames)\n",
    "    std = np.std(frames)\n",
    "\n",
    "    normalized_frames = (frames - mean) / std\n",
    "\n",
    "    return normalized_frames\n",
    "\n",
    "# Test the function\n",
    "test_path = './final_dataset/train/p1/clips/clip2.mp4'\n",
    "frm = load_video(test_path)\n",
    "\n",
    "# Display one of the frames for verification\n",
    "plt.imshow(frm[20], cmap='gray')\n",
    "plt.show()"
   ]
  },
  {
   "cell_type": "code",
   "execution_count": null,
   "metadata": {},
   "outputs": [],
   "source": [
    "vocab = [x for x in \" অআইঈউঊঋএঐওঔকখগঘঙচছজঝঞটঠডঢণতথদধনপফবভমযরলশষসহড়ঢ়য়ৎংঃঁািীুূেৈোৌৃ\"]"
   ]
  },
  {
   "cell_type": "code",
   "execution_count": null,
   "metadata": {},
   "outputs": [],
   "source": [
    "char_to_num = tf.keras.layers.StringLookup(vocabulary=vocab, oov_token=\"\")\n",
    "num_to_char = tf.keras.layers.StringLookup(\n",
    "    vocabulary=char_to_num.get_vocabulary(), oov_token=\"\", invert=True\n",
    ")\n",
    "\n",
    "print(\n",
    "    f\"The vocabulary is: {char_to_num.get_vocabulary()} \\n\"\n",
    "    f\"(size ={char_to_num.vocabulary_size()})\"\n",
    ")"
   ]
  },
  {
   "cell_type": "code",
   "execution_count": null,
   "metadata": {},
   "outputs": [],
   "source": [
    "char_to_num([' ','অ', 'আ', 'ই', 'ঈ', 'উ', 'ঊ'])"
   ]
  },
  {
   "cell_type": "code",
   "execution_count": null,
   "metadata": {},
   "outputs": [],
   "source": [
    "print([bytes.decode(x) for x in num_to_char([14,  9,  3, 11, 13]).numpy()])"
   ]
  },
  {
   "cell_type": "code",
   "execution_count": null,
   "metadata": {},
   "outputs": [],
   "source": [
    "def load_alignments(path:str) -> List[str]:\n",
    "    with open(path, 'r') as f:\n",
    "        lines = f.readlines()\n",
    "    tokens = []\n",
    "    for line in lines:\n",
    "        line = line.split()\n",
    "        for word in line:\n",
    "            for char in word:\n",
    "                tokens.extend(char)\n",
    "            tokens.extend(' ')\n",
    "    # print(tokens)\n",
    "    return char_to_num(tokens)[:-1]\n",
    "\n",
    "test_path = './final_dataset/train/p1/texts/clip2.txt'\n",
    "tokens = load_alignments(test_path)\n",
    "print(tokens)\n",
    "print([bytes.decode(x) for x in num_to_char(tokens).numpy()])"
   ]
  },
  {
   "cell_type": "code",
   "execution_count": null,
   "metadata": {},
   "outputs": [],
   "source": [
    "def load_data(path: tf.Tensor): \n",
    "    path = path.numpy().decode('utf-8')\n",
    "    file_name = os.path.splitext(os.path.basename(path))[0]\n",
    "    parent_dir = os.path.dirname(os.path.dirname(path))\n",
    "    subdirectory = os.path.basename(os.path.dirname(path))\n",
    "    # print(f'path: {path}')\n",
    "    # print(f'file_name: {file_name}')\n",
    "    # print(f'subdirectory: {subdirectory}')\n",
    "    # print(f'parent_dir: {parent_dir}')\n",
    "\n",
    "    # Adjust the paths according to your dataset structure\n",
    "    video_path = os.path.join(parent_dir, 'clips', file_name + '.mp4')\n",
    "    alignment_path = os.path.join(parent_dir, 'texts', file_name + '.txt')\n",
    "\n",
    "    frames = load_video(video_path) \n",
    "    alignments = load_alignments(alignment_path)\n",
    "    \n",
    "    return frames, alignments"
   ]
  },
  {
   "cell_type": "code",
   "execution_count": null,
   "metadata": {},
   "outputs": [],
   "source": [
    "# test_path = './final_dataset/train/p1/clips/clip37.mp4'\n",
    "# test_path = './final_dataset/test/p1/clips/clip37.mp4'\n",
    "test_path = './final_dataset/train/p1/clips/clip2.mp4'"
   ]
  },
  {
   "cell_type": "code",
   "execution_count": null,
   "metadata": {},
   "outputs": [],
   "source": [
    "# for windows\n",
    "# tf.convert_to_tensor(test_path).numpy().decode('utf-8').split('\\\\')[-1].split('.')[0]\n",
    "tf.convert_to_tensor(test_path).numpy().decode('utf-8').split('/')[-1].split('.')[0]"
   ]
  },
  {
   "cell_type": "code",
   "execution_count": null,
   "metadata": {},
   "outputs": [],
   "source": [
    "frames, alignments = load_data(tf.convert_to_tensor(test_path))\n",
    "# load_data(tf.convert_to_tensor(test_path))"
   ]
  },
  {
   "cell_type": "code",
   "execution_count": null,
   "metadata": {},
   "outputs": [],
   "source": [
    "plt.imshow(frames[15])\n",
    "# frames[23]"
   ]
  },
  {
   "cell_type": "code",
   "execution_count": null,
   "metadata": {},
   "outputs": [],
   "source": [
    "# tf.strings.reduce_join([bytes.decode(x) for x in num_to_char(alignments.numpy()).numpy()])\n",
    "print([bytes.decode(x) for x in num_to_char(alignments.numpy()).numpy()])"
   ]
  },
  {
   "cell_type": "code",
   "execution_count": null,
   "metadata": {},
   "outputs": [],
   "source": [
    "def mappable_function(path:str) ->List[str]:\n",
    "    result = tf.py_function(load_data, [path], (tf.float32, tf.int64))\n",
    "    return result"
   ]
  },
  {
   "cell_type": "markdown",
   "metadata": {},
   "source": [
    "# Data Pipeline"
   ]
  },
  {
   "cell_type": "code",
   "execution_count": null,
   "metadata": {},
   "outputs": [],
   "source": [
    "import random\n",
    "from glob import glob\n",
    "\n",
    "base_directory = './final_dataset/'\n",
    "train_directory = os.path.join(base_directory, 'train')\n",
    "# print(train_directory)\n",
    "train_pattern = os.path.join(train_directory, '**', '*.mp4')\n",
    "train_files = glob(train_pattern, recursive=True)\n",
    "\n",
    "test_directory = os.path.join(base_directory, 'test')\n",
    "# print(test_directory)\n",
    "test_pattern = os.path.join(test_directory, '**', '*.mp4')\n",
    "test_files = glob(test_pattern, recursive=True)\n",
    "\n",
    "val_directory = os.path.join(base_directory, 'val')\n",
    "# print(val_directory)\n",
    "val_pattern = os.path.join(val_directory, '**', '*.mp4')\n",
    "val_files = glob(val_pattern, recursive=True)\n",
    "\n",
    "train_size = len(train_files)\n",
    "val_size = len(val_files)\n",
    "test_size = len(test_files)\n",
    "print(f'Train size: {len(train_files)}\\nValidation size: {len(val_files)}\\nTest size: {len(test_files)}')\n",
    "\n",
    "print(train_files[0])\n",
    "print(val_files[0])\n",
    "print(test_files[0])\n",
    "\n",
    "\n",
    "\n",
    "# Load datasets from file paths\n",
    "train_data = tf.data.Dataset.from_tensor_slices(train_files)\n",
    "val_data = tf.data.Dataset.from_tensor_slices(val_files)\n",
    "test_data = tf.data.Dataset.from_tensor_slices(test_files)\n",
    "\n",
    "# Shuffle the datasets\n",
    "train_data = train_data.shuffle(train_size, reshuffle_each_iteration=False)\n",
    "val_data = val_data.shuffle(val_size, reshuffle_each_iteration=False)\n",
    "test_data = test_data.shuffle(test_size, reshuffle_each_iteration=False)\n",
    "\n",
    "# Map preprocessing function and batch the datasets\n",
    "train_data = train_data.map(mappable_function, num_parallel_calls=tf.data.AUTOTUNE)\n",
    "val_data = val_data.map(mappable_function, num_parallel_calls=tf.data.AUTOTUNE)\n",
    "test_data = test_data.map(mappable_function, num_parallel_calls=tf.data.AUTOTUNE)"
   ]
  },
  {
   "cell_type": "code",
   "execution_count": null,
   "metadata": {},
   "outputs": [],
   "source": [
    "import pickle\n",
    "\n",
    "def collect_and_pad_video(dataset, output_dir, prefix, max_frame_length=115, frame_shape=(54, 90, 1), max_label_length=55):\n",
    "    os.makedirs(output_dir, exist_ok=True)\n",
    "    i = 0\n",
    "    for x, y in dataset:\n",
    "        x = np.array(x)\n",
    "        y = np.array(y)\n",
    "        \n",
    "        # Pad frames\n",
    "        padded_frames = np.zeros((max_frame_length, *frame_shape), dtype=np.float32)\n",
    "        frame_length = x.shape[0]\n",
    "        padded_frames[:frame_length] = x\n",
    "        \n",
    "        # Pad labels\n",
    "        padded_labels = np.zeros((max_label_length,), dtype=np.int64)\n",
    "        label_length = y.shape[0]\n",
    "        padded_labels[:label_length] = y\n",
    "        \n",
    "        file_path = os.path.join(output_dir, f\"{prefix}_video_{i}.pkl\")\n",
    "        with open(file_path, 'wb') as f:\n",
    "            pickle.dump((padded_frames, padded_labels), f)\n",
    "        \n",
    "        i += 1\n",
    "        print(f\"Saved {file_path}\\r\", end='')\n",
    "    print()"
   ]
  },
  {
   "cell_type": "code",
   "execution_count": null,
   "metadata": {},
   "outputs": [],
   "source": [
    "collect_and_pad_video(val_data, 'val_chunks', 'val')\n",
    "collect_and_pad_video(test_data, 'test_chunks', 'test')\n",
    "collect_and_pad_video(train_data, 'train_chunks', 'train')"
   ]
  },
  {
   "cell_type": "code",
   "execution_count": null,
   "metadata": {},
   "outputs": [],
   "source": []
  }
 ],
 "metadata": {
  "kernelspec": {
   "display_name": "ltp_test",
   "language": "python",
   "name": "python3"
  },
  "language_info": {
   "codemirror_mode": {
    "name": "ipython",
    "version": 3
   },
   "file_extension": ".py",
   "mimetype": "text/x-python",
   "name": "python",
   "nbconvert_exporter": "python",
   "pygments_lexer": "ipython3",
   "version": "3.9.6"
  },
  "orig_nbformat": 4
 },
 "nbformat": 4,
 "nbformat_minor": 2
}
