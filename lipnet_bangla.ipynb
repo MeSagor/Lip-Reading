{
 "cells": [
  {
   "cell_type": "code",
   "execution_count": 1,
   "metadata": {},
   "outputs": [
    {
     "name": "stderr",
     "output_type": "stream",
     "text": [
      "2024-05-04 17:07:44.041529: I tensorflow/core/platform/cpu_feature_guard.cc:182] This TensorFlow binary is optimized to use available CPU instructions in performance-critical operations.\n",
      "To enable the following instructions: AVX2 FMA, in other operations, rebuild TensorFlow with the appropriate compiler flags.\n",
      "/Users/SAGOR/Unknown/AI_Works/Lip_Reading_code/lip_venv/lib/python3.9/site-packages/urllib3/__init__.py:34: NotOpenSSLWarning: urllib3 v2 only supports OpenSSL 1.1.1+, currently the 'ssl' module is compiled with 'LibreSSL 2.8.3'. See: https://github.com/urllib3/urllib3/issues/3020\n",
      "  warnings.warn(\n"
     ]
    }
   ],
   "source": [
    "import os\n",
    "import cv2\n",
    "import tensorflow as tf\n",
    "import numpy as np\n",
    "from typing import List\n",
    "from matplotlib import pyplot as plt"
   ]
  },
  {
   "cell_type": "code",
   "execution_count": null,
   "metadata": {},
   "outputs": [],
   "source": [
    "tf.config.list_physical_devices('GPU')"
   ]
  },
  {
   "cell_type": "code",
   "execution_count": null,
   "metadata": {},
   "outputs": [],
   "source": [
    "physical_devices = tf.config.list_physical_devices('GPU')\n",
    "try:\n",
    "    tf.config.experimental.set_memory_growth(physical_devices[0], True)\n",
    "except:\n",
    "    pass"
   ]
  },
  {
   "cell_type": "code",
   "execution_count": 4,
   "metadata": {},
   "outputs": [
    {
     "data": {
      "text/plain": [
       "<matplotlib.image.AxesImage at 0x12e7b9040>"
      ]
     },
     "execution_count": 4,
     "metadata": {},
     "output_type": "execute_result"
    },
    {
     "data": {
      "image/png": "[encoded data removed]",
      "text/plain": [
       "<Figure size 640x480 with 1 Axes>"
      ]
     },
     "metadata": {},
     "output_type": "display_data"
    }
   ],
   "source": [
    "# https://github.com/skaws2003/Dlib-lip-detection/tree/master\n",
    "\n",
    "import dlib\n",
    "\n",
    "def load_video(path:str) -> List[float]: \n",
    "    hog_face_detector = dlib.get_frontal_face_detector()\n",
    "    dlib_facelandmark = dlib.shape_predictor(\"./detector/shape_predictor_68_face_landmarks.dat\")\n",
    "\n",
    "    cap = cv2.VideoCapture(path)\n",
    "    frames = []\n",
    "    for _ in range(int(cap.get(cv2.CAP_PROP_FRAME_COUNT))): \n",
    "        ret, frame = cap.read()\n",
    "        if not ret:\n",
    "            continue\n",
    "        frame = cv2.cvtColor(frame, cv2.COLOR_BGR2GRAY)\n",
    "        faces = hog_face_detector(frame)\n",
    "\n",
    "        x67, y67 = 100, 100\n",
    "        horizontal_padding, vertical_padding = 40, 30\n",
    "        for face in faces:\n",
    "            face_landmarks = dlib_facelandmark(frame, face)\n",
    "            # for n in range(0, 68):\n",
    "            #     x = face_landmarks.part(n).x\n",
    "            #     y = face_landmarks.part(n).y\n",
    "            #     cv2.circle(frame, (x, y), 1, (0, 0, 255), -1)\n",
    "            x67 = face_landmarks.part(67).x\n",
    "            y67 = face_landmarks.part(67).y\n",
    "        lip_window = frame[y67-vertical_padding:y67+vertical_padding, x67-horizontal_padding:x67+horizontal_padding]\n",
    "        lip_window = tf.expand_dims(lip_window, axis=-1)\n",
    "            \n",
    "        frames.append(lip_window)\n",
    "    cap.release()\n",
    "    # return frames\n",
    "    mean = tf.math.reduce_mean(frames)\n",
    "    std = tf.math.reduce_std(tf.cast(frames, tf.float32))\n",
    "    return tf.cast((frames - mean), tf.float32) / std\n",
    "\n",
    "\n",
    "test_path = './data/person0/clips/clip0.mp4'\n",
    "frm = load_video(test_path)\n",
    "\n",
    "plt.imshow(frm[20])"
   ]
  },
  {
   "cell_type": "code",
   "execution_count": null,
   "metadata": {},
   "outputs": [],
   "source": [
    "vocab = [x for x in \" অআইঈউঊঋএঐওঔকখগঘঙচছজঝঞটঠডঢণতথদধনপফবভমযরলশষসহড়ঢ়য়ৎংঃঁািীুূেৈোৌৃ\"]"
   ]
  },
  {
   "cell_type": "code",
   "execution_count": null,
   "metadata": {},
   "outputs": [],
   "source": [
    "char_to_num = tf.keras.layers.StringLookup(vocabulary=vocab, oov_token=\"\")\n",
    "num_to_char = tf.keras.layers.StringLookup(\n",
    "    vocabulary=char_to_num.get_vocabulary(), oov_token=\"\", invert=True\n",
    ")\n",
    "\n",
    "print(\n",
    "    f\"The vocabulary is: {char_to_num.get_vocabulary()} \\n\"\n",
    "    f\"(size ={char_to_num.vocabulary_size()})\"\n",
    ")"
   ]
  },
  {
   "cell_type": "code",
   "execution_count": null,
   "metadata": {},
   "outputs": [],
   "source": [
    "char_to_num([' ','অ', 'আ', 'ই', 'ঈ', 'উ', 'ঊ'])"
   ]
  },
  {
   "cell_type": "code",
   "execution_count": null,
   "metadata": {},
   "outputs": [],
   "source": [
    "print([bytes.decode(x) for x in num_to_char([14,  9,  3, 11, 13]).numpy()])"
   ]
  },
  {
   "cell_type": "code",
   "execution_count": null,
   "metadata": {},
   "outputs": [],
   "source": [
    "def load_alignments(path:str) -> List[str]:\n",
    "    with open(path, 'r') as f:\n",
    "        lines = f.readlines()\n",
    "    tokens = []\n",
    "    for line in lines:\n",
    "        line = line.split()\n",
    "        for word in line:\n",
    "            for char in word:\n",
    "                tokens.extend(char)\n",
    "            tokens.extend(' ')\n",
    "    # print(tokens)\n",
    "    return char_to_num(tokens)[:-1]\n",
    "\n",
    "test_path = './data/person0/texts/clip1.txt'\n",
    "tokens = load_alignments(test_path)\n",
    "print(tokens)\n",
    "print([bytes.decode(x) for x in num_to_char(tokens).numpy()])"
   ]
  },
  {
   "cell_type": "code",
   "execution_count": null,
   "metadata": {},
   "outputs": [],
   "source": [
    "def load_data(path: str): \n",
    "    path = bytes.decode(path.numpy())\n",
    "    file_name = path.split('/')[-1].split('.')[0]\n",
    "    # # File name splitting for windows\n",
    "    # # file_name = path.split('\\\\')[-1].split('.')[0]\n",
    "    video_path = os.path.join('data','person0','clips', f'{file_name}.mp4')\n",
    "    alignment_path = os.path.join('data','person0','texts',f'{file_name}.txt')\n",
    "    frames = load_video(video_path) \n",
    "    alignments = load_alignments(alignment_path)\n",
    "    \n",
    "    return frames, alignments"
   ]
  },
  {
   "cell_type": "code",
   "execution_count": null,
   "metadata": {},
   "outputs": [],
   "source": [
    "# for windows\n",
    "# test_path = '.\\\\data\\\\person0\\\\clips\\\\clip0.mp4'\n",
    "test_path = './data/person0/clips/clip0.mp4'"
   ]
  },
  {
   "cell_type": "code",
   "execution_count": null,
   "metadata": {},
   "outputs": [],
   "source": [
    "# for windows\n",
    "# tf.convert_to_tensor(test_path).numpy().decode('utf-8').split('\\\\')[-1].split('.')[0]\n",
    "tf.convert_to_tensor(test_path).numpy().decode('utf-8').split('/')[-1].split('.')[0]"
   ]
  },
  {
   "cell_type": "code",
   "execution_count": null,
   "metadata": {},
   "outputs": [],
   "source": [
    "frames, alignments = load_data(tf.convert_to_tensor(test_path))\n",
    "# load_data(tf.convert_to_tensor(test_path))"
   ]
  },
  {
   "cell_type": "code",
   "execution_count": null,
   "metadata": {},
   "outputs": [],
   "source": [
    "plt.imshow(frames[15])\n",
    "# frames[23]"
   ]
  },
  {
   "cell_type": "code",
   "execution_count": null,
   "metadata": {},
   "outputs": [],
   "source": [
    "# tf.strings.reduce_join([bytes.decode(x) for x in num_to_char(alignments.numpy()).numpy()])\n",
    "print([bytes.decode(x) for x in num_to_char(alignments.numpy()).numpy()])"
   ]
  },
  {
   "cell_type": "code",
   "execution_count": null,
   "metadata": {},
   "outputs": [],
   "source": [
    "def mappable_function(path:str) ->List[str]:\n",
    "    result = tf.py_function(load_data, [path], (tf.float32, tf.int64))\n",
    "    return result"
   ]
  },
  {
   "cell_type": "markdown",
   "metadata": {},
   "source": [
    "# Data Pipeline"
   ]
  },
  {
   "cell_type": "code",
   "execution_count": null,
   "metadata": {},
   "outputs": [],
   "source": [
    "import random\n",
    "from glob import glob\n",
    "\n",
    "# files = glob('./data/person0/clips/*.mp4')\n",
    "# print(f'Total files: {len(files)}')\n",
    "\n",
    "\n",
    "base_directory = './data/'\n",
    "videos_directory = os.path.join(base_directory, 'person0', 'clips')\n",
    "pattern = os.path.join(videos_directory, '**', '*.mp4')\n",
    "files = glob(pattern, recursive=True)\n",
    "random.shuffle(files)\n",
    "\n",
    "print(f'Total files: {len(files)}')\n",
    "\n",
    "# Split the data into train, validation, and test sets\n",
    "train_size = int(0.86 * len(files))\n",
    "val_size = int(0.07 * len(files))\n",
    "test_size = len(files) - train_size - val_size\n",
    "\n",
    "# Split the files list into train, validation, and test sets\n",
    "train_files = files[:train_size]\n",
    "val_files = files[train_size:train_size + val_size]\n",
    "test_files = files[train_size + val_size:]\n",
    "\n",
    "train_size = len(train_files)\n",
    "val_size = len(val_files)\n",
    "test_size = len(test_files)\n",
    "print(f'Train size: {train_size}\\nValidation size: {val_size}\\nTest size: {test_size}')\n",
    "print(train_files[0])\n",
    "print(val_files[0])\n",
    "print(test_files[0])\n",
    "\n",
    "# Load datasets from file paths\n",
    "train_data = tf.data.Dataset.from_tensor_slices(train_files)\n",
    "val_data = tf.data.Dataset.from_tensor_slices(val_files)\n",
    "test_data = tf.data.Dataset.from_tensor_slices(test_files)\n",
    "\n",
    "# Shuffle the datasets\n",
    "train_data = train_data.shuffle(train_size, reshuffle_each_iteration=False)\n",
    "val_data = val_data.shuffle(val_size, reshuffle_each_iteration=False)\n",
    "test_data = test_data.shuffle(test_size, reshuffle_each_iteration=False)\n",
    "\n",
    "# Map preprocessing function and batch the datasets\n",
    "train_data = train_data.map(mappable_function, num_parallel_calls=tf.data.AUTOTUNE)\n",
    "val_data = val_data.map(mappable_function, num_parallel_calls=tf.data.AUTOTUNE)\n",
    "test_data = test_data.map(mappable_function, num_parallel_calls=tf.data.AUTOTUNE)\n",
    "\n",
    "# Batch the datasets\n",
    "batch_size = 2\n",
    "tot_frames = 95\n",
    "tot_chars = 40\n",
    "train_data = train_data.padded_batch(batch_size, padded_shapes=([tot_frames, None, None, None], [tot_chars]))\n",
    "val_data = val_data.padded_batch(batch_size, padded_shapes=([tot_frames, None, None, None], [tot_chars]))\n",
    "test_data = test_data.padded_batch(batch_size, padded_shapes=([tot_frames, None, None, None], [tot_chars]))\n",
    "\n",
    "# Prefetch the datasets\n",
    "train_data = train_data.prefetch(tf.data.AUTOTUNE)\n",
    "val_data = val_data.prefetch(tf.data.AUTOTUNE)\n",
    "test_data = test_data.prefetch(tf.data.AUTOTUNE)"
   ]
  },
  {
   "cell_type": "code",
   "execution_count": null,
   "metadata": {},
   "outputs": [],
   "source": [
    "sample = train_data.as_numpy_iterator()\n",
    "val = sample.next()\n",
    "# print(val[1])"
   ]
  },
  {
   "cell_type": "code",
   "execution_count": null,
   "metadata": {},
   "outputs": [],
   "source": [
    "sample1 = val_data.as_numpy_iterator()\n",
    "val1 = sample.next()\n",
    "# print(val[1])"
   ]
  },
  {
   "cell_type": "code",
   "execution_count": null,
   "metadata": {},
   "outputs": [],
   "source": [
    "sample2 = test_data.as_numpy_iterator()\n",
    "val2 = sample.next()\n",
    "# print(val[1])"
   ]
  },
  {
   "cell_type": "code",
   "execution_count": null,
   "metadata": {},
   "outputs": [],
   "source": [
    "# 0:videos, 0: 1st video out of the batch,  0: return the first frame in the video \n",
    "plt.imshow(val[0][0][20])"
   ]
  },
  {
   "cell_type": "code",
   "execution_count": null,
   "metadata": {},
   "outputs": [],
   "source": [
    "# tf.strings.reduce_join([num_to_char(word) for word in val[1][0]])\n",
    "\n",
    "words = [num_to_char(word) for word in val[1][0]]\n",
    "joined_words = tf.strings.reduce_join(words).numpy().decode('utf-8')\n",
    "print(joined_words)"
   ]
  },
  {
   "cell_type": "markdown",
   "metadata": {},
   "source": [
    "# Design the Deep Neural Network"
   ]
  },
  {
   "cell_type": "code",
   "execution_count": null,
   "metadata": {},
   "outputs": [],
   "source": [
    "from tensorflow.keras.models import Sequential \n",
    "from tensorflow.keras.layers import Conv3D, LSTM, Dense, Dropout, Bidirectional, MaxPool3D, Activation, Reshape, SpatialDropout3D, BatchNormalization, TimeDistributed, Flatten\n",
    "from tensorflow.keras.optimizers.legacy import Adam"
   ]
  },
  {
   "cell_type": "code",
   "execution_count": null,
   "metadata": {},
   "outputs": [],
   "source": [
    "train_data.as_numpy_iterator().next()[0][0].shape"
   ]
  },
  {
   "cell_type": "code",
   "execution_count": null,
   "metadata": {},
   "outputs": [],
   "source": [
    "model = Sequential()\n",
    "model.add(Conv3D(128, 3, input_shape=(tot_frames,60,80,1), padding='same'))\n",
    "model.add(Activation('relu'))\n",
    "model.add(MaxPool3D((1,2,2)))\n",
    "\n",
    "model.add(Conv3D(256, 3, padding='same'))\n",
    "model.add(Activation('relu'))\n",
    "model.add(MaxPool3D((1,2,2)))\n",
    "\n",
    "model.add(Conv3D(tot_frames, 3, padding='same'))\n",
    "model.add(Activation('relu'))\n",
    "model.add(MaxPool3D((1,2,2)))\n",
    "\n",
    "model.add(TimeDistributed(Flatten()))\n",
    "\n",
    "model.add(Bidirectional(LSTM(256, kernel_initializer='Orthogonal', return_sequences=True)))\n",
    "model.add(Dropout(.5))\n",
    "\n",
    "model.add(Bidirectional(LSTM(256, kernel_initializer='Orthogonal', return_sequences=True)))\n",
    "model.add(Dropout(.5))\n",
    "\n",
    "model.add(Dense(char_to_num.vocabulary_size()+1, kernel_initializer='he_normal', activation='softmax'))"
   ]
  },
  {
   "cell_type": "code",
   "execution_count": null,
   "metadata": {},
   "outputs": [],
   "source": [
    "model.summary()"
   ]
  },
  {
   "cell_type": "code",
   "execution_count": null,
   "metadata": {},
   "outputs": [],
   "source": [
    "print(f'input shape: {model.input_shape}')\n",
    "print(f'output shape: {model.output_shape}')"
   ]
  },
  {
   "cell_type": "markdown",
   "metadata": {},
   "source": [
    "# Setup Training Options and Train"
   ]
  },
  {
   "cell_type": "code",
   "execution_count": null,
   "metadata": {},
   "outputs": [],
   "source": [
    "def scheduler(epoch, lr):\n",
    "    if epoch < 30:\n",
    "        return lr\n",
    "    else:\n",
    "        return lr * tf.math.exp(-0.1)"
   ]
  },
  {
   "cell_type": "code",
   "execution_count": null,
   "metadata": {},
   "outputs": [],
   "source": [
    "def CTCLoss(y_true, y_pred):\n",
    "    batch_len = tf.cast(tf.shape(y_true)[0], dtype=\"int64\")\n",
    "    input_length = tf.cast(tf.shape(y_pred)[1], dtype=\"int64\")\n",
    "    label_length = tf.cast(tf.shape(y_true)[1], dtype=\"int64\")\n",
    "\n",
    "    input_length = input_length * tf.ones(shape=(batch_len, 1), dtype=\"int64\")\n",
    "    label_length = label_length * tf.ones(shape=(batch_len, 1), dtype=\"int64\")\n",
    "\n",
    "    loss = tf.keras.backend.ctc_batch_cost(y_true, y_pred, input_length, label_length)\n",
    "    return loss"
   ]
  },
  {
   "cell_type": "code",
   "execution_count": null,
   "metadata": {},
   "outputs": [],
   "source": [
    "class ProduceExample(tf.keras.callbacks.Callback): \n",
    "    def __init__(self, dataset) -> None: \n",
    "        self.dataset = dataset.as_numpy_iterator()\n",
    "    \n",
    "    def on_epoch_end(self, epoch, logs=None) -> None:\n",
    "        data = self.dataset.next()\n",
    "        yhat = self.model.predict(data[0])\n",
    "        \n",
    "        decoded = tf.keras.backend.ctc_decode(yhat, [tot_frames, tot_frames], greedy=False)[0][0].numpy()\n",
    "        for x in range(len(yhat)):           \n",
    "            print('Original:', tf.strings.reduce_join(num_to_char(data[1][x])).numpy().decode('utf-8'))\n",
    "            print('Prediction:', tf.strings.reduce_join(num_to_char(decoded[x])).numpy().decode('utf-8'))\n",
    "            print('~'*100)"
   ]
  },
  {
   "cell_type": "code",
   "execution_count": null,
   "metadata": {},
   "outputs": [],
   "source": [
    "class AccuracyExample(tf.keras.callbacks.Callback):\n",
    "    def __init__(self, dataset) -> None:\n",
    "        self.dataset = dataset\n",
    "        self.total_chars = 0\n",
    "        self.correct_chars = 0\n",
    "        self.total_words = 0\n",
    "        self.correct_words = 0\n",
    "\n",
    "    def on_epoch_begin(self, epoch, logs=None) -> None:\n",
    "        self.dataset_iterator = self.dataset.as_numpy_iterator()\n",
    "        \n",
    "    def on_epoch_end(self, epoch, logs=None) -> None:\n",
    "        self.total_chars = 0\n",
    "        self.correct_chars = 0\n",
    "        self.total_words = 0\n",
    "        self.correct_words = 0\n",
    "        \n",
    "        for data in self.dataset_iterator:\n",
    "            y_true = data[1]\n",
    "            y_pred = self.model.predict(data[0])\n",
    "            decoded = tf.keras.backend.ctc_decode(y_pred, [tot_frames, tot_frames], greedy=False)[0][0].numpy()\n",
    "\n",
    "            for x in range(len(y_pred)):\n",
    "                true_str = tf.strings.reduce_join(num_to_char(y_true[x])).numpy().decode('utf-8')\n",
    "                decoded_str = tf.strings.reduce_join(num_to_char(decoded[x])).numpy().decode('utf-8')\n",
    "                self.total_chars += len(true_str)\n",
    "                self.correct_chars += sum(1 for true_char, pred_char in zip(true_str, decoded_str) if true_char == pred_char)\n",
    "                self.total_words += len(true_str.split())\n",
    "                self.correct_words += sum(1 for true_word, pred_word in zip(true_str.split(), decoded_str.split()) if true_word == pred_word)\n",
    "\n",
    "        char_accuracy = self.correct_chars / self.total_chars if self.total_chars > 0 else 0\n",
    "        word_accuracy = self.correct_words / self.total_words if self.total_words > 0 else 0\n",
    "        print(f\"Epoch: {epoch + 1} - char_accuracy: {char_accuracy*100:.4f}% - word_accuracy: {word_accuracy*100:.4f}%\")\n"
   ]
  },
  {
   "cell_type": "code",
   "execution_count": null,
   "metadata": {},
   "outputs": [],
   "source": [
    "\n",
    "checkpoint_callback = tf.keras.callbacks.ModelCheckpoint(\n",
    "    os.path.join('bangla_model','checkpoint'),\n",
    "    monitor='val_loss',\n",
    "    save_best_only=True,\n",
    "    save_weights_only=True\n",
    "    ) \n",
    "\n",
    "schedule_callback = tf.keras.callbacks.LearningRateScheduler(scheduler)\n",
    "\n",
    "example_callback = ProduceExample(val_data)\n",
    "accuracy_callback = AccuracyExample(val_data)\n",
    "\n",
    "backup_callback = tf.keras.callbacks.BackupAndRestore(\n",
    "    os.path.join('bangla_training_backup'),\n",
    "    save_freq='epoch',\n",
    "    delete_checkpoint=True\n",
    ")\n",
    "\n",
    "early_stopping = tf.keras.callbacks.EarlyStopping(\n",
    "    monitor='val_loss',\n",
    "    patience=7\n",
    ")\n",
    "\n",
    "model.compile(optimizer=Adam(learning_rate=0.0001), loss=CTCLoss)\n"
   ]
  },
  {
   "cell_type": "code",
   "execution_count": null,
   "metadata": {},
   "outputs": [],
   "source": [
    "history = model.fit(train_data, validation_data=val_data, epochs=100, callbacks=[\n",
    "                    backup_callback, checkpoint_callback, schedule_callback, early_stopping, example_callback, accuracy_callback,])"
   ]
  },
  {
   "cell_type": "markdown",
   "metadata": {},
   "source": [
    "# Make Predictions"
   ]
  },
  {
   "cell_type": "code",
   "execution_count": null,
   "metadata": {},
   "outputs": [],
   "source": [
    "# for windows\n",
    "# model.load_weights('.\\\\models\\\\checkpoint')\n",
    "model.load_weights('./bangla_model/checkpoint')"
   ]
  },
  {
   "cell_type": "code",
   "execution_count": null,
   "metadata": {},
   "outputs": [],
   "source": [
    "val_single = val_data.as_numpy_iterator()\n",
    "\n",
    "for _ in range(20):\n",
    "    data = val_single.next()\n",
    "    yhat = model.predict(data[0])\n",
    "    \n",
    "    decoded = tf.keras.backend.ctc_decode(yhat, [tot_frames, tot_frames], greedy=False)[0][0].numpy()\n",
    "    for x in range(len(yhat)):           \n",
    "        print('Original:', tf.strings.reduce_join(num_to_char(data[1][x])).numpy().decode('utf-8'))\n",
    "        print('Prediction:', tf.strings.reduce_join(num_to_char(decoded[x])).numpy().decode('utf-8'))\n",
    "        print('~'*100)"
   ]
  },
  {
   "cell_type": "code",
   "execution_count": null,
   "metadata": {},
   "outputs": [],
   "source": [
    "test_single = test_data.as_numpy_iterator()\n",
    "\n",
    "for _ in range(20):\n",
    "    data = test_single.next()\n",
    "    yhat = model.predict(data[0])\n",
    "    decoded = tf.keras.backend.ctc_decode(yhat, [tot_frames, tot_frames], greedy=False)[0][0].numpy()\n",
    "    for x in range(len(yhat)):\n",
    "        print('Original:', tf.strings.reduce_join(num_to_char(data[1][x])).numpy().decode('utf-8'))\n",
    "        print('Prediction:', tf.strings.reduce_join(num_to_char(decoded[x])).numpy().decode('utf-8'))\n",
    "        print('~'*100)"
   ]
  },
  {
   "cell_type": "code",
   "execution_count": null,
   "metadata": {},
   "outputs": [],
   "source": []
  }
 ],
 "metadata": {
  "kernelspec": {
   "display_name": "ltp_test",
   "language": "python",
   "name": "python3"
  },
  "language_info": {
   "codemirror_mode": {
    "name": "ipython",
    "version": 3
   },
   "file_extension": ".py",
   "mimetype": "text/x-python",
   "name": "python",
   "nbconvert_exporter": "python",
   "pygments_lexer": "ipython3",
   "version": "3.9.6"
  },
  "orig_nbformat": 4
 },
 "nbformat": 4,
 "nbformat_minor": 2
}
