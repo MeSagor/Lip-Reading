{
 "cells": [
  {
   "cell_type": "code",
   "execution_count": null,
   "metadata": {},
   "outputs": [],
   "source": [
    "import os\n",
    "import cv2\n",
    "import tensorflow as tf\n",
    "import numpy as np\n",
    "from typing import List\n",
    "from matplotlib import pyplot as plt"
   ]
  },
  {
   "cell_type": "code",
   "execution_count": null,
   "metadata": {},
   "outputs": [],
   "source": [
    "physical_devices = tf.config.list_physical_devices('GPU')\n",
    "print(physical_devices)\n",
    "try:\n",
    "    tf.config.experimental.set_memory_growth(physical_devices[0], True)\n",
    "except:\n",
    "    pass"
   ]
  },
  {
   "cell_type": "code",
   "execution_count": 33,
   "metadata": {},
   "outputs": [
    {
     "data": {
      "text/plain": [
       "<matplotlib.image.AxesImage at 0x13888bca0>"
      ]
     },
     "execution_count": 33,
     "metadata": {},
     "output_type": "execute_result"
    },
    {
     "data": {
      "image/png": "[encoded data removed]",
      "text/plain": [
       "<Figure size 640x480 with 1 Axes>"
      ]
     },
     "metadata": {},
     "output_type": "display_data"
    }
   ],
   "source": [
    "# def load_video(path:str) -> List[float]: \n",
    "#     cap = cv2.VideoCapture(path)\n",
    "#     frames = []\n",
    "#     for _ in range(int(cap.get(cv2.CAP_PROP_FRAME_COUNT))): \n",
    "#         ret, frame = cap.read()\n",
    "#         if not ret:\n",
    "#             continue\n",
    "#         window = frame[150:230,110:215,:]\n",
    "#         frame = cv2.cvtColor(window, cv2.COLOR_BGR2frame)\n",
    "#         frame = tf.expand_dims(frame, axis=-1)\n",
    "#         # print(frame.shape)\n",
    "#         frames.append(frame)\n",
    "#         # frame = tf.image.rgb_to_framescale(frame)\n",
    "#         # frames.append(frame[180:250,110:215,:])\n",
    "#     cap.release()\n",
    "    \n",
    "#     mean = tf.math.reduce_mean(frames)\n",
    "#     std = tf.math.reduce_std(tf.cast(frames, tf.float32))\n",
    "#     return tf.cast((frames - mean), tf.float32) / std\n",
    "\n",
    "\n",
    "\n",
    "\n",
    "# https://github.com/skaws2003/Dlib-lip-detection/tree/master\n",
    "\n",
    "import cv2\n",
    "import dlib\n",
    "\n",
    "def load_video(path:str) -> List[float]: \n",
    "    hog_face_detector = dlib.get_frontal_face_detector()\n",
    "    dlib_facelandmark = dlib.shape_predictor(\"./detector/shape_predictor_68_face_landmarks.dat\")\n",
    "\n",
    "    cap = cv2.VideoCapture(path)\n",
    "    frames = []\n",
    "    for _ in range(int(cap.get(cv2.CAP_PROP_FRAME_COUNT))): \n",
    "        ret, frame = cap.read()\n",
    "        if not ret:\n",
    "            continue\n",
    "        frame = cv2.cvtColor(frame, cv2.COLOR_BGR2GRAY)\n",
    "        faces = hog_face_detector(frame)\n",
    "\n",
    "        for face in faces:\n",
    "            face_landmarks = dlib_facelandmark(frame, face)\n",
    "            # for n in range(0, 68):\n",
    "            #     x = face_landmarks.part(n).x\n",
    "            #     y = face_landmarks.part(n).y\n",
    "            #     cv2.circle(frame, (x, y), 1, (0, 0, 255), -1)\n",
    "            x67 = face_landmarks.part(67).x\n",
    "            y67 = face_landmarks.part(67).y\n",
    "            horizontal_padding = 35\n",
    "            vertical_padding = 25\n",
    "            lip_window = frame[y67-vertical_padding:y67+vertical_padding, x67-horizontal_padding:x67+horizontal_padding]\n",
    "            # lip_window = tf.expand_dims(lip_window, axis=-1)\n",
    "            \n",
    "        frames.append(lip_window)\n",
    "    cap.release()\n",
    "    # return frames\n",
    "    mean = tf.math.reduce_mean(frames)\n",
    "    std = tf.math.reduce_std(tf.cast(frames, tf.float32))\n",
    "    return tf.cast((frames - mean), tf.float32) / std\n",
    "\n",
    "\n",
    "\n",
    "test_path = './dataset/videos/s1/bbaf3s.mpg'\n",
    "test_path = './dataset/videos/s2/bbaf2s.mpg'\n",
    "test_path = './dataset/videos/s3/bbal6p.mpg'\n",
    "# test_path = './data/person0/clips/clip0.mp4'\n",
    "frm = load_video(test_path)\n",
    "\n",
    "plt.imshow(frm[20])"
   ]
  },
  {
   "cell_type": "code",
   "execution_count": null,
   "metadata": {},
   "outputs": [],
   "source": [
    "vocab = [x for x in \"abcdefghijklmnopqrstuvwxyz'?!123456789 \"]"
   ]
  },
  {
   "cell_type": "code",
   "execution_count": null,
   "metadata": {},
   "outputs": [],
   "source": [
    "char_to_num = tf.keras.layers.StringLookup(vocabulary=vocab, oov_token=\"\")\n",
    "num_to_char = tf.keras.layers.StringLookup(\n",
    "    vocabulary=char_to_num.get_vocabulary(), oov_token=\"\", invert=True\n",
    ")\n",
    "\n",
    "print(\n",
    "    f\"The vocabulary is: {char_to_num.get_vocabulary()} \\n\"\n",
    "    f\"(size ={char_to_num.vocabulary_size()})\"\n",
    ")"
   ]
  },
  {
   "cell_type": "code",
   "execution_count": null,
   "metadata": {},
   "outputs": [],
   "source": [
    "char_to_num([' ','a', 'b', 'c', 'e', 'g', 'i'])"
   ]
  },
  {
   "cell_type": "code",
   "execution_count": null,
   "metadata": {},
   "outputs": [],
   "source": [
    "num_to_char([14,  9,  3, 11, 13])"
   ]
  },
  {
   "cell_type": "code",
   "execution_count": null,
   "metadata": {},
   "outputs": [],
   "source": [
    "def load_alignments(path: str) -> List[str]:\n",
    "    with open(path, 'r') as f:\n",
    "        lines = f.readlines()\n",
    "    tokens = []\n",
    "    for line in lines:\n",
    "        line = line.split()\n",
    "        if line[2] != 'sil':\n",
    "            tokens = [*tokens, ' ', line[2]]\n",
    "    return char_to_num(tf.reshape(tf.strings.unicode_split(tokens, input_encoding='UTF-8'), (-1)))[1:]"
   ]
  },
  {
   "cell_type": "code",
   "execution_count": null,
   "metadata": {},
   "outputs": [],
   "source": [
    "def load_data(path: str): \n",
    "    path = bytes.decode(path.numpy())\n",
    "    file_name = os.path.splitext(os.path.basename(path))[0]\n",
    "    subdirectory = os.path.basename(os.path.dirname(path))\n",
    "    # print(f'path: {path}')\n",
    "    # print(f'file_name: {file_name}')\n",
    "    # print(f'subdirectory: {subdirectory}')\n",
    "\n",
    "    video_path = os.path.join('dataset', 'videos', subdirectory, file_name + '.mpg')  # Adjust extension if needed\n",
    "    alignment_path = os.path.join('dataset', 'alignments', subdirectory, file_name + '.align')\n",
    "\n",
    "    frames = load_video(video_path) \n",
    "    alignments = load_alignments(alignment_path)\n",
    "    \n",
    "    return frames, alignments"
   ]
  },
  {
   "cell_type": "code",
   "execution_count": null,
   "metadata": {},
   "outputs": [],
   "source": [
    "# for windows\n",
    "# test_path = '.\\\\data\\\\person0\\\\clips\\\\clip0.mp4'\n",
    "# test_path = './data/person0/clips/clip0.mp4'\n",
    "test_path = './dataset/videos/s2/bbaf1n.mpg'"
   ]
  },
  {
   "cell_type": "code",
   "execution_count": null,
   "metadata": {},
   "outputs": [],
   "source": [
    "# for windows\n",
    "# tf.convert_to_tensor(test_path).numpy().decode('utf-8').split('\\\\')[-1].split('.')[0]\n",
    "tf.convert_to_tensor(test_path).numpy().decode('utf-8').split('/')[-1].split('.')[0]"
   ]
  },
  {
   "cell_type": "code",
   "execution_count": null,
   "metadata": {},
   "outputs": [],
   "source": [
    "frames, alignments = load_data(tf.convert_to_tensor(test_path))\n",
    "# load_data(tf.convert_to_tensor(test_path))"
   ]
  },
  {
   "cell_type": "code",
   "execution_count": null,
   "metadata": {},
   "outputs": [],
   "source": [
    "plt.imshow(frames[15])\n",
    "# frames[23]"
   ]
  },
  {
   "cell_type": "code",
   "execution_count": null,
   "metadata": {},
   "outputs": [],
   "source": [
    "# tf.strings.reduce_join([bytes.decode(x) for x in num_to_char(alignments.numpy()).numpy()])\n",
    "print([bytes.decode(x) for x in num_to_char(alignments.numpy()).numpy()])"
   ]
  },
  {
   "cell_type": "code",
   "execution_count": null,
   "metadata": {},
   "outputs": [],
   "source": [
    "def mappable_function(path:str) ->List[str]:\n",
    "    result = tf.py_function(load_data, [path], (tf.float32, tf.int64))\n",
    "    return result"
   ]
  },
  {
   "cell_type": "markdown",
   "metadata": {},
   "source": [
    "# Data Pipeline"
   ]
  },
  {
   "cell_type": "code",
   "execution_count": null,
   "metadata": {},
   "outputs": [],
   "source": [
    "# # for windows\n",
    "# # data = tf.data.Dataset.list_files('.\\\\data\\\\person0\\\\clips\\\\*.mp4')\n",
    "# from glob import glob\n",
    "\n",
    "# base_directory = './dataset/'\n",
    "# videos_directory = os.path.join(base_directory, 'videos')\n",
    "# pattern = os.path.join(videos_directory, '**', '*.mpg')\n",
    "# files = glob(pattern, recursive=True)\n",
    "\n",
    "# print(f'Total files: {len(files)}')\n",
    "\n",
    "\n",
    "# data = tf.data.Dataset.from_tensor_slices(files)\n",
    "# data = data.shuffle(len(files), reshuffle_each_iteration=False)\n",
    "# # # NOTE:: split data for train test here\n",
    "\n",
    "# data = data.map(mappable_function, num_parallel_calls=tf.data.AUTOTUNE)\n",
    "# data = data.padded_batch(2, padded_shapes=([95,None,None,None],[40]))\n",
    "# data = data.prefetch(tf.data.AUTOTUNE)\n",
    "\n",
    "# # train = data.take(450)\n",
    "# # test = data.skip(450)\n",
    "\n",
    "# # Calculate sizes for train, validation, and test sets\n",
    "# train_size = int(0.75 * len(files))\n",
    "# val_size = int(0.15 * len(files))\n",
    "# test_size = len(files) - train_size - val_size\n",
    "\n",
    "# # Split the data into train, validation, and test sets\n",
    "# train_data = data.take(train_size)\n",
    "# val_data = data.skip(train_size).take(val_size)\n",
    "# test_data = data.skip(train_size + val_size)\n",
    "\n",
    "# print(f'Train size: {train_size}\\nValidation size: {val_size}\\nTest size: {test_size}')\n"
   ]
  },
  {
   "cell_type": "code",
   "execution_count": null,
   "metadata": {},
   "outputs": [],
   "source": [
    "from glob import glob\n",
    "\n",
    "base_directory = './dataset/'\n",
    "videos_directory = os.path.join(base_directory, 'videos')\n",
    "pattern = os.path.join(videos_directory, '**', '*.mpg')\n",
    "files = glob(pattern, recursive=True)\n",
    "\n",
    "print(f'Total files: {len(files)}')\n",
    "\n",
    "# Split the data into train, validation, and test sets\n",
    "train_size = int(0.86 * len(files))\n",
    "val_size = int(0.07 * len(files))\n",
    "test_size = len(files) - train_size - val_size\n",
    "print(f'Train size: {train_size}\\nValidation size: {val_size}\\nTest size: {test_size}')\n",
    "\n",
    "# Split the files list into train, validation, and test sets\n",
    "train_files = files[:train_size]\n",
    "val_files = files[train_size:train_size + val_size]\n",
    "test_files = files[train_size + val_size:]\n",
    "\n",
    "# Load datasets from file paths\n",
    "train_data = tf.data.Dataset.from_tensor_slices(train_files)\n",
    "val_data = tf.data.Dataset.from_tensor_slices(val_files)\n",
    "test_data = tf.data.Dataset.from_tensor_slices(test_files)\n",
    "\n",
    "# Shuffle the datasets\n",
    "train_data = train_data.shuffle(train_size, reshuffle_each_iteration=False)\n",
    "val_data = val_data.shuffle(val_size, reshuffle_each_iteration=False)\n",
    "test_data = test_data.shuffle(test_size, reshuffle_each_iteration=False)\n",
    "\n",
    "# Map preprocessing function and batch the datasets\n",
    "train_data = train_data.map(mappable_function, num_parallel_calls=tf.data.AUTOTUNE)\n",
    "val_data = val_data.map(mappable_function, num_parallel_calls=tf.data.AUTOTUNE)\n",
    "test_data = test_data.map(mappable_function, num_parallel_calls=tf.data.AUTOTUNE)\n",
    "\n",
    "# Batch the datasets\n",
    "batch_size = 2\n",
    "tot_frames = 95\n",
    "tot_chars = 40\n",
    "train_data = train_data.padded_batch(batch_size, padded_shapes=([tot_frames, None, None, None], [tot_chars]))\n",
    "val_data = val_data.padded_batch(batch_size, padded_shapes=([tot_frames, None, None, None], [tot_chars]))\n",
    "test_data = test_data.padded_batch(batch_size, padded_shapes=([tot_frames, None, None, None], [tot_chars]))\n",
    "\n",
    "# Prefetch the datasets\n",
    "train_data = train_data.prefetch(tf.data.AUTOTUNE)\n",
    "val_data = val_data.prefetch(tf.data.AUTOTUNE)\n",
    "test_data = test_data.prefetch(tf.data.AUTOTUNE)"
   ]
  },
  {
   "cell_type": "code",
   "execution_count": null,
   "metadata": {},
   "outputs": [],
   "source": [
    "# frames, alignments = data.as_numpy_iterator().next()"
   ]
  },
  {
   "cell_type": "code",
   "execution_count": null,
   "metadata": {},
   "outputs": [],
   "source": [
    "sample = train_data.as_numpy_iterator()\n",
    "val = sample.next()\n",
    "print(val[1])"
   ]
  },
  {
   "cell_type": "code",
   "execution_count": null,
   "metadata": {},
   "outputs": [],
   "source": [
    "sample1 = val_data.as_numpy_iterator()\n",
    "val1 = sample.next()\n",
    "print(val[1])"
   ]
  },
  {
   "cell_type": "code",
   "execution_count": null,
   "metadata": {},
   "outputs": [],
   "source": [
    "sample2 = test_data.as_numpy_iterator()\n",
    "val2 = sample.next()\n",
    "print(val[1])"
   ]
  },
  {
   "cell_type": "code",
   "execution_count": null,
   "metadata": {},
   "outputs": [],
   "source": [
    "# 0:videos, 0: 1st video out of the batch,  0: return the first frame in the video \n",
    "plt.imshow(val[0][0][20])"
   ]
  },
  {
   "cell_type": "code",
   "execution_count": null,
   "metadata": {},
   "outputs": [],
   "source": [
    "# tf.strings.reduce_join([num_to_char(word) for word in val[1][0]])\n",
    "\n",
    "words = [num_to_char(word) for word in val[1][0]]\n",
    "joined_words = tf.strings.reduce_join(words).numpy().decode('utf-8')\n",
    "print(joined_words)"
   ]
  },
  {
   "cell_type": "markdown",
   "metadata": {},
   "source": [
    "# Design the Deep Neural Network"
   ]
  },
  {
   "cell_type": "code",
   "execution_count": null,
   "metadata": {},
   "outputs": [],
   "source": [
    "from tensorflow.keras.models import Sequential \n",
    "from tensorflow.keras.layers import Conv3D, LSTM, Dense, Dropout, Bidirectional, MaxPool3D, Activation, Reshape, SpatialDropout3D, BatchNormalization, TimeDistributed, Flatten\n",
    "from tensorflow.keras.optimizers.legacy import Adam\n",
    "from tensorflow.keras.callbacks import ModelCheckpoint, LearningRateScheduler"
   ]
  },
  {
   "cell_type": "code",
   "execution_count": null,
   "metadata": {},
   "outputs": [],
   "source": [
    "train_data.as_numpy_iterator().next()[0][0].shape"
   ]
  },
  {
   "cell_type": "code",
   "execution_count": null,
   "metadata": {},
   "outputs": [],
   "source": [
    "model = Sequential()\n",
    "model.add(Conv3D(128, 3, input_shape=(95,80,105,1), padding='same'))\n",
    "model.add(Activation('relu'))\n",
    "model.add(MaxPool3D((1,2,2)))\n",
    "\n",
    "model.add(Conv3D(256, 3, padding='same'))\n",
    "model.add(Activation('relu'))\n",
    "model.add(MaxPool3D((1,2,2)))\n",
    "\n",
    "model.add(Conv3D(200, 3, padding='same'))\n",
    "model.add(Activation('relu'))\n",
    "model.add(MaxPool3D((1,2,2)))\n",
    "\n",
    "model.add(TimeDistributed(Flatten()))\n",
    "\n",
    "model.add(Bidirectional(LSTM(128, kernel_initializer='Orthogonal', return_sequences=True)))\n",
    "model.add(Dropout(.5))\n",
    "\n",
    "model.add(Bidirectional(LSTM(128, kernel_initializer='Orthogonal', return_sequences=True)))\n",
    "model.add(Dropout(.5))\n",
    "\n",
    "model.add(Dense(char_to_num.vocabulary_size()+1, kernel_initializer='he_normal', activation='softmax'))"
   ]
  },
  {
   "cell_type": "code",
   "execution_count": null,
   "metadata": {},
   "outputs": [],
   "source": [
    "model.summary()"
   ]
  },
  {
   "cell_type": "code",
   "execution_count": null,
   "metadata": {},
   "outputs": [],
   "source": [
    "model.input_shape"
   ]
  },
  {
   "cell_type": "code",
   "execution_count": null,
   "metadata": {},
   "outputs": [],
   "source": [
    "model.output_shape"
   ]
  },
  {
   "cell_type": "markdown",
   "metadata": {},
   "source": [
    "# Setup Training Options and Train"
   ]
  },
  {
   "cell_type": "code",
   "execution_count": null,
   "metadata": {},
   "outputs": [],
   "source": [
    "def scheduler(epoch, lr):\n",
    "    if epoch < 30:\n",
    "        return lr\n",
    "    else:\n",
    "        return lr * tf.math.exp(-0.1)"
   ]
  },
  {
   "cell_type": "code",
   "execution_count": null,
   "metadata": {},
   "outputs": [],
   "source": [
    "def CTCLoss(y_true, y_pred):\n",
    "    batch_len = tf.cast(tf.shape(y_true)[0], dtype=\"int64\")\n",
    "    input_length = tf.cast(tf.shape(y_pred)[1], dtype=\"int64\")\n",
    "    label_length = tf.cast(tf.shape(y_true)[1], dtype=\"int64\")\n",
    "\n",
    "    input_length = input_length * tf.ones(shape=(batch_len, 1), dtype=\"int64\")\n",
    "    label_length = label_length * tf.ones(shape=(batch_len, 1), dtype=\"int64\")\n",
    "\n",
    "    loss = tf.keras.backend.ctc_batch_cost(y_true, y_pred, input_length, label_length)\n",
    "    return loss"
   ]
  },
  {
   "cell_type": "code",
   "execution_count": null,
   "metadata": {},
   "outputs": [],
   "source": [
    "class ProduceExample(tf.keras.callbacks.Callback): \n",
    "    def __init__(self, dataset) -> None: \n",
    "        self.dataset = dataset.as_numpy_iterator()\n",
    "    \n",
    "    def on_epoch_end(self, epoch, logs=None) -> None:\n",
    "        data = self.dataset.next()\n",
    "        yhat = self.model.predict(data[0])\n",
    "        \n",
    "        decoded = tf.keras.backend.ctc_decode(yhat, [95, 95], greedy=False)[0][0].numpy()\n",
    "        for x in range(len(yhat)):           \n",
    "            print('Original:', tf.strings.reduce_join(num_to_char(data[1][x])).numpy().decode('utf-8'))\n",
    "            print('Prediction:', tf.strings.reduce_join(num_to_char(decoded[x])).numpy().decode('utf-8'))\n",
    "            print('~'*20)"
   ]
  },
  {
   "cell_type": "code",
   "execution_count": null,
   "metadata": {},
   "outputs": [],
   "source": [
    "model.compile(optimizer=Adam(learning_rate=0.0001), loss=CTCLoss, metrics=['accuracy'])\n",
    "\n",
    "checkpoint_callback = ModelCheckpoint(os.path.join('models','checkpoint'), monitor='loss', save_weights_only=True) \n",
    "\n",
    "schedule_callback = LearningRateScheduler(scheduler)\n",
    "\n",
    "example_callback = ProduceExample(val_data)\n",
    "\n",
    "backup_callback = tf.keras.callbacks.BackupAndRestore(\n",
    "    \"./training_backup\",\n",
    "    save_freq='epoch',\n",
    "    delete_checkpoint=True,\n",
    ")"
   ]
  },
  {
   "cell_type": "code",
   "execution_count": null,
   "metadata": {},
   "outputs": [],
   "source": [
    "model.fit(train_data, validation_data=val_data, epochs=100, callbacks=[backup_callback, checkpoint_callback, schedule_callback, example_callback])"
   ]
  },
  {
   "cell_type": "markdown",
   "metadata": {},
   "source": [
    "# Make Predictions"
   ]
  },
  {
   "cell_type": "code",
   "execution_count": null,
   "metadata": {},
   "outputs": [],
   "source": [
    "# for windows\n",
    "# model.load_weights('.\\\\models\\\\checkpoint')\n",
    "model.load_weights('./models/checkpoint')"
   ]
  },
  {
   "cell_type": "code",
   "execution_count": null,
   "metadata": {},
   "outputs": [],
   "source": [
    "test_single = test_data.as_numpy_iterator()"
   ]
  },
  {
   "cell_type": "code",
   "execution_count": null,
   "metadata": {},
   "outputs": [],
   "source": [
    "sample = test_single.next()"
   ]
  },
  {
   "cell_type": "code",
   "execution_count": null,
   "metadata": {},
   "outputs": [],
   "source": [
    "yhat = model.predict(sample[0])"
   ]
  }
 ],
 "metadata": {
  "kernelspec": {
   "display_name": "ltp_test",
   "language": "python",
   "name": "python3"
  },
  "language_info": {
   "codemirror_mode": {
    "name": "ipython",
    "version": 3
   },
   "file_extension": ".py",
   "mimetype": "text/x-python",
   "name": "python",
   "nbconvert_exporter": "python",
   "pygments_lexer": "ipython3",
   "version": "3.9.6"
  },
  "orig_nbformat": 4
 },
 "nbformat": 4,
 "nbformat_minor": 2
}
